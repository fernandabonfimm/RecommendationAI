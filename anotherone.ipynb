{
 "cells": [
  {
   "cell_type": "code",
   "execution_count": 24,
   "metadata": {},
   "outputs": [],
   "source": [
    "import json\n",
    "import pandas as pd\n",
    "from sklearn.linear_model import LinearRegression\n",
    "from sklearn.model_selection import train_test_split"
   ]
  },
  {
   "cell_type": "code",
   "execution_count": 29,
   "metadata": {},
   "outputs": [],
   "source": [
    "def obter_dados(fonte):\n",
    "    if fonte == 'json':\n",
    "        with open('cursos.json') as f:\n",
    "            dados = json.load(f)\n",
    "    elif fonte == 'webhook':\n",
    "        url = 'https://exemplo.com/api/dados'\n",
    "        response = requests.get(url)\n",
    "        dados = response.json()\n",
    "    else:\n",
    "        raise ValueError('Fonte de dados inválida')\n",
    "    return dados"
   ]
  },
  {
   "cell_type": "code",
   "execution_count": 30,
   "metadata": {},
   "outputs": [],
   "source": [
    "fonte = input('Digite a fonte dos dados (json ou webhook): ')\n",
    "dados = obter_dados(fonte)"
   ]
  },
  {
   "cell_type": "code",
   "execution_count": 31,
   "metadata": {},
   "outputs": [],
   "source": [
    "df = pd.DataFrame(columns=['id', 'nome', 'idade', 'curso_nome', 'curso_categoria', 'curso_avaliacao', 'amigo_id', 'amigo_nome', 'amigo_curso_nome', 'amigo_curso_avaliacao'])"
   ]
  },
  {
   "cell_type": "code",
   "execution_count": 35,
   "metadata": {},
   "outputs": [],
   "source": [
    "rows = []\n",
    "for usuario in data['usuarios']:\n",
    "    for curso in usuario['cursos']:\n",
    "        row = {\n",
    "            'id': usuario['id'],\n",
    "            'nome': usuario['nome'],\n",
    "            'idade': usuario['idade'],\n",
    "            'curso_nome': curso['nome'],\n",
    "            'curso_categoria': curso['categoria'],\n",
    "            'curso_avaliacao': curso['avaliacao'],\n",
    "            'amigo_id': None,\n",
    "            'amigo_nome': None,\n",
    "            'amigo_curso_nome': None,\n",
    "            'amigo_curso_avaliacao': None\n",
    "        }\n",
    "        rows.append(row)\n",
    "\n",
    "        for amigo in usuario['amigos']:\n",
    "            for curso in amigo['cursos']:\n",
    "                row = {\n",
    "                    'id': usuario['id'],\n",
    "                    'nome': usuario['nome'],\n",
    "                    'idade': usuario['idade'],\n",
    "                    'curso_nome': None,\n",
    "                    'curso_categoria': None,\n",
    "                    'curso_avaliacao': None,\n",
    "                    'amigo_id': amigo['id'],\n",
    "                    'amigo_nome': amigo['nome'],\n",
    "                    'amigo_curso_nome': curso['nome'],\n",
    "                    'amigo_curso_avaliacao': curso['avaliacao']\n",
    "                }\n",
    "                rows.append(row)\n",
    "\n",
    "df = pd.DataFrame(rows)"
   ]
  },
  {
   "cell_type": "code",
   "execution_count": 36,
   "metadata": {},
   "outputs": [],
   "source": [
    "df.drop_duplicates(inplace=True)"
   ]
  },
  {
   "cell_type": "code",
   "execution_count": 37,
   "metadata": {},
   "outputs": [],
   "source": [
    "cursos_agrupados = df.groupby(['curso_nome', 'curso_categoria'])['curso_avaliacao'].mean().reset_index()"
   ]
  },
  {
   "cell_type": "code",
   "execution_count": 38,
   "metadata": {},
   "outputs": [],
   "source": [
    "cursos_agrupados.rename(columns={'curso_avaliacao': 'curso_media_avaliacao'}, inplace=True)"
   ]
  },
  {
   "cell_type": "code",
   "execution_count": 40,
   "metadata": {},
   "outputs": [],
   "source": [
    "df = df.merge(cursos_agrupados, on=['curso_nome', 'curso_categoria'], how='left')"
   ]
  },
  {
   "cell_type": "code",
   "execution_count": 41,
   "metadata": {},
   "outputs": [],
   "source": [
    "df.sort_values(['nome', 'curso_media_avaliacao'], ascending=[True, False], inplace=True)"
   ]
  },
  {
   "cell_type": "code",
   "execution_count": 42,
   "metadata": {},
   "outputs": [
    {
     "name": "stdout",
     "output_type": "stream",
     "text": [
      "   id   nome  idade                                      curso_nome   \n",
      "0   1  JoÃ£o     25         IntroduÃ§Ã£o Ã  ProgramaÃ§Ã£o em Python  \\\n",
      "9   1  JoÃ£o     25                          InglÃªs IntermediÃ¡rio   \n",
      "8   1  JoÃ£o     25  Desenvolvimento Web com HTML, CSS e JavaScript   \n",
      "1   1  JoÃ£o     25                                            None   \n",
      "2   1  JoÃ£o     25                                            None   \n",
      "\n",
      "  curso_categoria  curso_avaliacao  amigo_id amigo_nome    amigo_curso_nome   \n",
      "0   ProgramaÃ§Ã£o              4.5       NaN       None                None  \\\n",
      "9         Idiomas              4.0       NaN       None                None   \n",
      "8   ProgramaÃ§Ã£o              3.5       NaN       None                None   \n",
      "1            None              NaN       5.0      Maria  FinanÃ§as Pessoais   \n",
      "2            None              NaN       5.0      Maria   Marketing Digital   \n",
      "\n",
      "   amigo_curso_avaliacao  curso_media_avaliacao  \n",
      "0                    NaN                    4.5  \n",
      "9                    NaN                    4.0  \n",
      "8                    NaN                    3.5  \n",
      "1                    4.2                    NaN  \n",
      "2                    3.8                    NaN  \n"
     ]
    }
   ],
   "source": [
    "print(df.head())"
   ]
  }
 ],
 "metadata": {
  "kernelspec": {
   "display_name": "Python 3",
   "language": "python",
   "name": "python3"
  },
  "language_info": {
   "codemirror_mode": {
    "name": "ipython",
    "version": 3
   },
   "file_extension": ".py",
   "mimetype": "text/x-python",
   "name": "python",
   "nbconvert_exporter": "python",
   "pygments_lexer": "ipython3",
   "version": "3.10.1"
  },
  "orig_nbformat": 4
 },
 "nbformat": 4,
 "nbformat_minor": 2
}

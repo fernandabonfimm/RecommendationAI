{
 "cells": [
  {
   "cell_type": "code",
   "execution_count": 112,
   "metadata": {},
   "outputs": [],
   "source": [
    "import json\n",
    "import pandas as pd\n",
    "from sklearn.linear_model import LinearRegression\n",
    "from sklearn.model_selection import train_test_split"
   ]
  },
  {
   "cell_type": "code",
   "execution_count": 113,
   "metadata": {},
   "outputs": [],
   "source": [
    "\n",
    "def obter_dados(fonte, fonte_amigos=None):\n",
    "    if fonte == 'json':\n",
    "        with open('cursos.json') as f:\n",
    "            dados = json.load(f)\n",
    "    elif fonte == 'webhook':\n",
    "        url = 'https://exemplo.com/api/dados'\n",
    "        response = requests.get(url)\n",
    "        dados = response.json()\n",
    "    else:\n",
    "        raise ValueError('Fonte de dados inválida')\n",
    "\n",
    "    if fonte_amigos == 'json':\n",
    "        with open('amigos.json') as f:\n",
    "            amigos = json.load(f)\n",
    "    elif fonte_amigos == 'webhook':\n",
    "        url = 'https://exemplo.com/api/amigos'\n",
    "        response = requests.get(url)\n",
    "        amigos = response.json()\n",
    "    else:\n",
    "        amigos = []\n",
    "\n",
    "    return dados, amigos"
   ]
  },
  {
   "cell_type": "code",
   "execution_count": 114,
   "metadata": {},
   "outputs": [],
   "source": [
    "def obter_cursos_avaliados_usuario(usuario_id, df):\n",
    "    return df[df['id'] == usuario_id]['curso_nome'].unique()"
   ]
  },
  {
   "cell_type": "code",
   "execution_count": 115,
   "metadata": {},
   "outputs": [],
   "source": [
    "def obter_cursos_avaliados_usuario(usuario_id, df):\n",
    "    return df[df['id'] == usuario_id]['curso_nome'].unique()"
   ]
  },
  {
   "cell_type": "code",
   "execution_count": 116,
   "metadata": {},
   "outputs": [],
   "source": [
    "def obter_cursos_avaliados_amigos(usuario_id, df):\n",
    "    amigos_avaliaram = df[df['amigo_id'].notnull()]['amigo_id'].unique()\n",
    "    amigos_cursos = []\n",
    "    for amigo in amigos_avaliaram:\n",
    "        cursos_avaliados_amigo = df[(df['amigo_id'] == amigo) & (df['usuario_id'] != usuario_id)][['curso_nome', 'avaliacao']]\n",
    "        if not cursos_avaliados_amigo.empty:\n",
    "            cursos_avaliados_amigo = cursos_avaliados_amigo.groupby('curso_nome').mean()\n",
    "            amigos_cursos.append(cursos_avaliados_amigo)\n",
    "    return pd.concat(amigos_cursos).reset_index()"
   ]
  },
  {
   "cell_type": "code",
   "execution_count": 118,
   "metadata": {},
   "outputs": [],
   "source": [
    "def recomendar_cursos(avaliacoes_usuario, avaliacoes_amigos):\n",
    "    df = pd.concat([avaliacoes_usuario, avaliacoes_amigos], ignore_index=True)\n",
    "    df.drop_duplicates(subset=['curso_nome'], keep='first', inplace=True)\n",
    "    \n",
    "    X = df[['curso_media_avaliacao']]\n",
    "    y = df['curso_nome']\n",
    "    X_train, X_test, y_train, y_test = train_test_split(X, y, test_size=0.2, random_state=42)\n",
    "    \n",
    "    reg = LinearRegression().fit(X_train, y_train)\n",
    "    \n",
    "    cursos_recomendados = list(reg.predict(X_test))\n",
    "    return cursos_recomendados"
   ]
  },
  {
   "cell_type": "code",
   "execution_count": 119,
   "metadata": {},
   "outputs": [],
   "source": [
    "fonte = input('Digite a fonte dos dados (json ou webhook): ')\n",
    "fonte_amigos = input('Digite a fonte dos amigos (json, webhook ou nenhum): ')\n",
    "dados, amigos = obter_dados(fonte, fonte_amigos)\n",
    "df = pd.DataFrame(columns=['id', 'nome', 'idade', 'curso_nome', 'curso_categoria', 'curso_avaliacao', 'amigo_id', 'amigo_nome', 'amigo_curso_nome', 'amigo_curso_avaliacao'])\n",
    "rows = []\n",
    "for usuario in dados['usuarios']:\n",
    "    for curso in usuario['cursos']:\n",
    "        row = {\n",
    "            'id': usuario['id'],\n",
    "            'nome': usuario['nome'],\n",
    "            'idade': usuario['idade'],\n",
    "            'curso_nome': curso['nome'],\n",
    "            'curso_categoria': curso['categoria'],\n",
    "            'curso_avaliacao': curso['avaliacao'],\n",
    "            'amigo_id': None,\n",
    "            'amigo_nome': None,\n",
    "            'amigo_curso_nome': None,\n",
    "            'amigo_curso_avaliacao': None\n",
    "        }\n",
    "        rows.append(row)\n",
    "        if 'amigos' in usuario:\n",
    "            for amigo in usuario['amigos']:\n",
    "                for amigo_curso in amigo['cursos']:\n",
    "                    row = {\n",
    "                        'id': usuario['id'],\n",
    "                        'nome': usuario['nome'],\n",
    "                        'idade': usuario['idade'],\n",
    "                        'curso_nome': curso['nome'],\n",
    "                        'curso_categoria': curso['categoria'],\n",
    "                        'curso_avaliacao': curso['avaliacao'],\n",
    "                        'amigo_id': amigo['id'],\n",
    "                        'amigo_nome': amigo['nome'],\n",
    "                        'amigo_curso_nome': amigo_curso['nome'],\n",
    "                        'amigo_curso_avaliacao': amigo_curso['avaliacao']\n",
    "                    }\n",
    "                    rows.append(row)\n",
    "df = pd.DataFrame(rows)\n"
   ]
  },
  {
   "cell_type": "code",
   "execution_count": 120,
   "metadata": {},
   "outputs": [],
   "source": [
    "df.drop_duplicates(inplace=True)"
   ]
  },
  {
   "cell_type": "code",
   "execution_count": 121,
   "metadata": {},
   "outputs": [],
   "source": [
    "cursos_agrupados = df.groupby(['curso_nome', 'curso_categoria'])['curso_avaliacao'].mean().reset_index()"
   ]
  },
  {
   "cell_type": "code",
   "execution_count": 122,
   "metadata": {},
   "outputs": [],
   "source": [
    "cursos_agrupados.rename(columns={'curso_avaliacao': 'curso_media_avaliacao'}, inplace=True)"
   ]
  },
  {
   "cell_type": "code",
   "execution_count": 123,
   "metadata": {},
   "outputs": [],
   "source": [
    "df = df.merge(cursos_agrupados, on=['curso_nome', 'curso_categoria'], how='left')"
   ]
  },
  {
   "cell_type": "code",
   "execution_count": 124,
   "metadata": {},
   "outputs": [],
   "source": [
    "df.sort_values(['nome', 'curso_media_avaliacao'], ascending=[True, False], inplace=True)"
   ]
  },
  {
   "cell_type": "code",
   "execution_count": null,
   "metadata": {},
   "outputs": [],
   "source": [
    "print(df.head())"
   ]
  },
  {
   "cell_type": "code",
   "execution_count": 126,
   "metadata": {},
   "outputs": [],
   "source": [
    "def recomendar_cursos(avaliacoes_usuario, avaliacoes_amigos):\n",
    "    avaliacoes = pd.concat([avaliacoes_usuario] + avaliacoes_amigos, axis=0)\n",
    "\n",
    "    X_train, X_test, y_train, y_test = train_test_split(\n",
    "        avaliacoes[['curso_media_avaliacao', 'curso_categoria_enc']],\n",
    "        avaliacoes['curso_avaliacao'],\n",
    "        test_size=0.2,\n",
    "        random_state=42\n",
    "    )\n",
    "    reg = LinearRegression()\n",
    "    reg.fit(X_train, y_train)\n",
    "\n",
    "    cursos_avaliados = avaliacoes_usuario['curso_nome']\n",
    "    cursos_nao_avaliados = avaliacoes['curso_nome'][~avaliacoes['curso_nome'].isin(cursos_avaliados)]\n",
    "    cursos_recomendados = []\n",
    "    for curso in cursos_nao_avaliados:\n",
    "        curso_avaliacao_media = avaliacoes[avaliacoes['curso_nome'] == curso]['curso_media_avaliacao'].iloc[0]\n",
    "        curso_categoria_enc = avaliacoes[avaliacoes['curso_nome'] == curso]['curso_categoria_enc'].iloc[0]\n",
    "        nota_prevista = reg.predict(np.array([[curso_avaliacao_media, curso_categoria_enc]]))[0]\n",
    "        cursos_recomendados.append((curso, nota_prevista))\n",
    "\n",
    "    cursos_recomendados = sorted(cursos_recomendados, key=lambda x: x[1], reverse=True)\n",
    "\n",
    "    return [curso[0] for curso in cursos_recomendados]"
   ]
  },
  {
   "cell_type": "code",
   "execution_count": 128,
   "metadata": {},
   "outputs": [
    {
     "ename": "KeyError",
     "evalue": "'usuario_id'",
     "output_type": "error",
     "traceback": [
      "\u001b[1;31m---------------------------------------------------------------------------\u001b[0m",
      "\u001b[1;31mKeyError\u001b[0m                                  Traceback (most recent call last)",
      "File \u001b[1;32mc:\\Python310\\lib\\site-packages\\pandas\\core\\indexes\\base.py:3652\u001b[0m, in \u001b[0;36mIndex.get_loc\u001b[1;34m(self, key)\u001b[0m\n\u001b[0;32m   3651\u001b[0m \u001b[39mtry\u001b[39;00m:\n\u001b[1;32m-> 3652\u001b[0m     \u001b[39mreturn\u001b[39;00m \u001b[39mself\u001b[39;49m\u001b[39m.\u001b[39;49m_engine\u001b[39m.\u001b[39;49mget_loc(casted_key)\n\u001b[0;32m   3653\u001b[0m \u001b[39mexcept\u001b[39;00m \u001b[39mKeyError\u001b[39;00m \u001b[39mas\u001b[39;00m err:\n",
      "File \u001b[1;32mc:\\Python310\\lib\\site-packages\\pandas\\_libs\\index.pyx:147\u001b[0m, in \u001b[0;36mpandas._libs.index.IndexEngine.get_loc\u001b[1;34m()\u001b[0m\n",
      "File \u001b[1;32mc:\\Python310\\lib\\site-packages\\pandas\\_libs\\index.pyx:176\u001b[0m, in \u001b[0;36mpandas._libs.index.IndexEngine.get_loc\u001b[1;34m()\u001b[0m\n",
      "File \u001b[1;32mpandas\\_libs\\hashtable_class_helper.pxi:7080\u001b[0m, in \u001b[0;36mpandas._libs.hashtable.PyObjectHashTable.get_item\u001b[1;34m()\u001b[0m\n",
      "File \u001b[1;32mpandas\\_libs\\hashtable_class_helper.pxi:7088\u001b[0m, in \u001b[0;36mpandas._libs.hashtable.PyObjectHashTable.get_item\u001b[1;34m()\u001b[0m\n",
      "\u001b[1;31mKeyError\u001b[0m: 'usuario_id'",
      "\nThe above exception was the direct cause of the following exception:\n",
      "\u001b[1;31mKeyError\u001b[0m                                  Traceback (most recent call last)",
      "Cell \u001b[1;32mIn[128], line 3\u001b[0m\n\u001b[0;32m      1\u001b[0m avaliacoes_usuario \u001b[39m=\u001b[39m obter_cursos_avaliados_usuario(\u001b[39m'\u001b[39m\u001b[39musuario1\u001b[39m\u001b[39m'\u001b[39m, df)\n\u001b[0;32m      2\u001b[0m amigos_avaliaram \u001b[39m=\u001b[39m df[df[\u001b[39m'\u001b[39m\u001b[39mamigo_id\u001b[39m\u001b[39m'\u001b[39m]\u001b[39m.\u001b[39mnotnull()][\u001b[39m'\u001b[39m\u001b[39mamigo_id\u001b[39m\u001b[39m'\u001b[39m]\u001b[39m.\u001b[39munique()\n\u001b[1;32m----> 3\u001b[0m avaliacoes_amigos \u001b[39m=\u001b[39m obter_cursos_avaliados_amigos(\u001b[39m'\u001b[39;49m\u001b[39musuario1\u001b[39;49m\u001b[39m'\u001b[39;49m, df) \u001b[39mif\u001b[39;00m \u001b[39mlen\u001b[39m(amigos_avaliaram) \u001b[39m>\u001b[39m \u001b[39m0\u001b[39m \u001b[39melse\u001b[39;00m pd\u001b[39m.\u001b[39mDataFrame()\n\u001b[0;32m      4\u001b[0m cursos_recomendados \u001b[39m=\u001b[39m recomendar_cursos(avaliacoes_usuario, avaliacoes_amigos)\n\u001b[0;32m      5\u001b[0m \u001b[39mprint\u001b[39m(cursos_recomendados)\n",
      "Cell \u001b[1;32mIn[116], line 5\u001b[0m, in \u001b[0;36mobter_cursos_avaliados_amigos\u001b[1;34m(usuario_id, df)\u001b[0m\n\u001b[0;32m      3\u001b[0m amigos_cursos \u001b[39m=\u001b[39m []\n\u001b[0;32m      4\u001b[0m \u001b[39mfor\u001b[39;00m amigo \u001b[39min\u001b[39;00m amigos_avaliaram:\n\u001b[1;32m----> 5\u001b[0m     cursos_avaliados_amigo \u001b[39m=\u001b[39m df[(df[\u001b[39m'\u001b[39m\u001b[39mamigo_id\u001b[39m\u001b[39m'\u001b[39m] \u001b[39m==\u001b[39m amigo) \u001b[39m&\u001b[39m (df[\u001b[39m'\u001b[39;49m\u001b[39musuario_id\u001b[39;49m\u001b[39m'\u001b[39;49m] \u001b[39m!=\u001b[39m usuario_id)][[\u001b[39m'\u001b[39m\u001b[39mcurso_nome\u001b[39m\u001b[39m'\u001b[39m, \u001b[39m'\u001b[39m\u001b[39mavaliacao\u001b[39m\u001b[39m'\u001b[39m]]\n\u001b[0;32m      6\u001b[0m     \u001b[39mif\u001b[39;00m \u001b[39mnot\u001b[39;00m cursos_avaliados_amigo\u001b[39m.\u001b[39mempty:\n\u001b[0;32m      7\u001b[0m         cursos_avaliados_amigo \u001b[39m=\u001b[39m cursos_avaliados_amigo\u001b[39m.\u001b[39mgroupby(\u001b[39m'\u001b[39m\u001b[39mcurso_nome\u001b[39m\u001b[39m'\u001b[39m)\u001b[39m.\u001b[39mmean()\n",
      "File \u001b[1;32mc:\\Python310\\lib\\site-packages\\pandas\\core\\frame.py:3760\u001b[0m, in \u001b[0;36mDataFrame.__getitem__\u001b[1;34m(self, key)\u001b[0m\n\u001b[0;32m   3758\u001b[0m \u001b[39mif\u001b[39;00m \u001b[39mself\u001b[39m\u001b[39m.\u001b[39mcolumns\u001b[39m.\u001b[39mnlevels \u001b[39m>\u001b[39m \u001b[39m1\u001b[39m:\n\u001b[0;32m   3759\u001b[0m     \u001b[39mreturn\u001b[39;00m \u001b[39mself\u001b[39m\u001b[39m.\u001b[39m_getitem_multilevel(key)\n\u001b[1;32m-> 3760\u001b[0m indexer \u001b[39m=\u001b[39m \u001b[39mself\u001b[39;49m\u001b[39m.\u001b[39;49mcolumns\u001b[39m.\u001b[39;49mget_loc(key)\n\u001b[0;32m   3761\u001b[0m \u001b[39mif\u001b[39;00m is_integer(indexer):\n\u001b[0;32m   3762\u001b[0m     indexer \u001b[39m=\u001b[39m [indexer]\n",
      "File \u001b[1;32mc:\\Python310\\lib\\site-packages\\pandas\\core\\indexes\\base.py:3654\u001b[0m, in \u001b[0;36mIndex.get_loc\u001b[1;34m(self, key)\u001b[0m\n\u001b[0;32m   3652\u001b[0m     \u001b[39mreturn\u001b[39;00m \u001b[39mself\u001b[39m\u001b[39m.\u001b[39m_engine\u001b[39m.\u001b[39mget_loc(casted_key)\n\u001b[0;32m   3653\u001b[0m \u001b[39mexcept\u001b[39;00m \u001b[39mKeyError\u001b[39;00m \u001b[39mas\u001b[39;00m err:\n\u001b[1;32m-> 3654\u001b[0m     \u001b[39mraise\u001b[39;00m \u001b[39mKeyError\u001b[39;00m(key) \u001b[39mfrom\u001b[39;00m \u001b[39merr\u001b[39;00m\n\u001b[0;32m   3655\u001b[0m \u001b[39mexcept\u001b[39;00m \u001b[39mTypeError\u001b[39;00m:\n\u001b[0;32m   3656\u001b[0m     \u001b[39m# If we have a listlike key, _check_indexing_error will raise\u001b[39;00m\n\u001b[0;32m   3657\u001b[0m     \u001b[39m#  InvalidIndexError. Otherwise we fall through and re-raise\u001b[39;00m\n\u001b[0;32m   3658\u001b[0m     \u001b[39m#  the TypeError.\u001b[39;00m\n\u001b[0;32m   3659\u001b[0m     \u001b[39mself\u001b[39m\u001b[39m.\u001b[39m_check_indexing_error(key)\n",
      "\u001b[1;31mKeyError\u001b[0m: 'usuario_id'"
     ]
    }
   ],
   "source": [
    "avaliacoes_usuario = obter_cursos_avaliados_usuario('usuario1', df)\n",
    "amigos_avaliaram = df[df['amigo_id'].notnull()]['amigo_id'].unique()\n",
    "avaliacoes_amigos = obter_cursos_avaliados_amigos('usuario1', df) if len(amigos_avaliaram) > 0 else pd.DataFrame()\n",
    "cursos_recomendados = recomendar_cursos(avaliacoes_usuario, avaliacoes_amigos)\n",
    "print(cursos_recomendados)\n"
   ]
  }
 ],
 "metadata": {
  "kernelspec": {
   "display_name": "Python 3",
   "language": "python",
   "name": "python3"
  },
  "language_info": {
   "codemirror_mode": {
    "name": "ipython",
    "version": 3
   },
   "file_extension": ".py",
   "mimetype": "text/x-python",
   "name": "python",
   "nbconvert_exporter": "python",
   "pygments_lexer": "ipython3",
   "version": "3.10.1"
  },
  "orig_nbformat": 4
 },
 "nbformat": 4,
 "nbformat_minor": 2
}

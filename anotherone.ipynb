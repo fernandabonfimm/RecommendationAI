{
 "cells": [
  {
   "cell_type": "code",
   "execution_count": 132,
   "metadata": {},
   "outputs": [],
   "source": [
    "import json\n",
    "import pandas as pd\n",
    "from sklearn.linear_model import LinearRegression\n",
    "from sklearn.model_selection import train_test_split"
   ]
  },
  {
   "cell_type": "code",
   "execution_count": 133,
   "metadata": {},
   "outputs": [],
   "source": [
    "\n",
    "def obter_dados(fonte, fonte_amigos=None):\n",
    "    if fonte == 'json':\n",
    "        with open('cursos.json') as f:\n",
    "            dados = json.load(f)\n",
    "    elif fonte == 'webhook':\n",
    "        url = 'https://exemplo.com/api/dados'\n",
    "        response = requests.get(url)\n",
    "        dados = response.json()\n",
    "    else:\n",
    "        raise ValueError('Fonte de dados inválida')\n",
    "\n",
    "    if fonte_amigos == 'json':\n",
    "        with open('amigos.json') as f:\n",
    "            amigos = json.load(f)\n",
    "    elif fonte_amigos == 'webhook':\n",
    "        url = 'https://exemplo.com/api/amigos'\n",
    "        response = requests.get(url)\n",
    "        amigos = response.json()\n",
    "    else:\n",
    "        amigos = []\n",
    "\n",
    "    return dados, amigos"
   ]
  },
  {
   "cell_type": "code",
   "execution_count": 134,
   "metadata": {},
   "outputs": [],
   "source": [
    "def obter_cursos_avaliados_usuario(usuario_id, df):\n",
    "    return df[df['id'] == usuario_id]['curso_nome'].unique()"
   ]
  },
  {
   "cell_type": "code",
   "execution_count": 135,
   "metadata": {},
   "outputs": [],
   "source": [
    "def obter_cursos_avaliados_amigos(usuario_id, df):\n",
    "    amigos_avaliaram = df[df['amigo_id'].notnull()]['amigo_id'].unique()\n",
    "    amigos_cursos = []\n",
    "    for amigo in amigos_avaliaram:\n",
    "        cursos_avaliados_amigo = df[(df['amigo_id'] == amigo) & (df['id'] != usuario_id)][['curso_nome', 'amigo_curso_avaliacao']]\n",
    "        if not cursos_avaliados_amigo.empty:\n",
    "            cursos_avaliados_amigo = cursos_avaliados_amigo.groupby('curso_nome').mean()\n",
    "            cursos_avaliados_amigo['usuario_avaliacao'] = df[(df['id'] == usuario_id) & (df['curso_nome'].isin(cursos_avaliados_amigo.index))]['curso_avaliacao'].values\n",
    "            cursos_avaliados_amigo['amigo_media_avaliacao'] = df[df['id'] == amigo]['curso_media_avaliacao'].values[0]\n",
    "            amigos_cursos.append(cursos_avaliados_amigo)\n",
    "    if not amigos_cursos:\n",
    "        return pd.DataFrame(columns=['curso_nome', 'usuario_avaliacao', 'amigo_media_avaliacao', 'amigo_curso_avaliacao'])\n",
    "    return pd.concat(amigos_cursos).reset_index()\n"
   ]
  },
  {
   "cell_type": "code",
   "execution_count": 136,
   "metadata": {},
   "outputs": [],
   "source": [
    "def recomendar_cursos(avaliacoes_usuario, avaliacoes_amigos):\n",
    "    df = pd.concat([avaliacoes_usuario, avaliacoes_amigos], ignore_index=True)\n",
    "    df.drop_duplicates(subset=['curso_nome'], keep='first', inplace=True)\n",
    "\n",
    "    X = df[['amigo_media_avaliacao', 'usuario_avaliacao']]\n",
    "    y = df['curso_media_avaliacao']\n",
    "    X_train, X_test, y_train, y_test = train_test_split(X, y, test_size=0.2, random_state=42)\n",
    "\n",
    "    reg = LinearRegression().fit(X_train, y_train)\n",
    "\n",
    "    cursos_recomendados = list(reg.predict(X_test))\n",
    "    cursos_recomendados_df = pd.DataFrame({'curso_nome': X_test.index, 'curso_media_avaliacao_recomendada': cursos_recomendados})\n",
    "    cursos_recomendados_df.sort_values('curso_media_avaliacao_recomendada', ascending=False, inplace=True)\n",
    "\n",
    "    return cursos_recomendados_df\n"
   ]
  },
  {
   "cell_type": "code",
   "execution_count": 138,
   "metadata": {},
   "outputs": [],
   "source": [
    "fonte = input('Digite a fonte dos dados (json ou webhook): ')\n",
    "fonte_amigos = input('Digite a fonte dos amigos (json, webhook ou nenhum): ')\n",
    "dados, amigos = obter_dados(fonte, fonte_amigos)\n",
    "df = pd.DataFrame(columns=['id', 'nome', 'idade', 'curso_nome', 'curso_categoria', 'curso_avaliacao', 'amigo_id', 'amigo_nome', 'amigo_curso_nome', 'amigo_curso_avaliacao'])\n",
    "rows = []\n",
    "for usuario in dados['usuarios']:\n",
    "    for curso in usuario['cursos']:\n",
    "        row = {\n",
    "            'id': usuario['id'],\n",
    "            'nome': usuario['nome'],\n",
    "            'idade': usuario['idade'],\n",
    "            'curso_nome': curso['nome'],\n",
    "            'curso_categoria': curso['categoria'],\n",
    "            'curso_avaliacao': curso['avaliacao'],\n",
    "            'amigo_id': None,\n",
    "            'amigo_nome': None,\n",
    "            'amigo_curso_nome': None,\n",
    "            'amigo_curso_avaliacao': None\n",
    "        }\n",
    "        rows.append(row)\n",
    "        if 'amigos' in usuario:\n",
    "            for amigo in usuario['amigos']:\n",
    "                for amigo_curso in amigo['cursos']:\n",
    "                    row = {\n",
    "                        'id': usuario['id'],\n",
    "                        'nome': usuario['nome'],\n",
    "                        'idade': usuario['idade'],\n",
    "                        'curso_nome': curso['nome'],\n",
    "                        'curso_categoria': curso['categoria'],\n",
    "                        'curso_avaliacao': curso['avaliacao'],\n",
    "                        'amigo_id': amigo['id'],\n",
    "                        'amigo_nome': amigo['nome'],\n",
    "                        'amigo_curso_nome': amigo_curso['nome'],\n",
    "                        'amigo_curso_avaliacao': amigo_curso['avaliacao']\n",
    "                    }\n",
    "                    rows.append(row)\n",
    "df = pd.DataFrame(rows)\n"
   ]
  },
  {
   "cell_type": "code",
   "execution_count": 139,
   "metadata": {},
   "outputs": [],
   "source": [
    "df.drop_duplicates(inplace=True)"
   ]
  },
  {
   "cell_type": "code",
   "execution_count": 140,
   "metadata": {},
   "outputs": [],
   "source": [
    "cursos_agrupados = df.groupby(['curso_nome', 'curso_categoria'])['curso_avaliacao'].mean().reset_index()"
   ]
  },
  {
   "cell_type": "code",
   "execution_count": 141,
   "metadata": {},
   "outputs": [],
   "source": [
    "cursos_agrupados.rename(columns={'curso_avaliacao': 'curso_media_avaliacao'}, inplace=True)"
   ]
  },
  {
   "cell_type": "code",
   "execution_count": 142,
   "metadata": {},
   "outputs": [],
   "source": [
    "df = df.merge(cursos_agrupados, on=['curso_nome', 'curso_categoria'], how='left')"
   ]
  },
  {
   "cell_type": "code",
   "execution_count": 143,
   "metadata": {},
   "outputs": [],
   "source": [
    "df.sort_values(['nome', 'curso_media_avaliacao'], ascending=[True, False], inplace=True)"
   ]
  },
  {
   "cell_type": "code",
   "execution_count": null,
   "metadata": {},
   "outputs": [],
   "source": [
    "print(df.head())"
   ]
  },
  {
   "cell_type": "code",
   "execution_count": 144,
   "metadata": {},
   "outputs": [],
   "source": [
    "def recomendar_cursos(avaliacoes_usuario, avaliacoes_amigos):\n",
    "    avaliacoes = pd.concat([avaliacoes_usuario] + avaliacoes_amigos, axis=0)\n",
    "\n",
    "    encoder = LabelEncoder()\n",
    "    avaliacoes['curso_categoria_enc'] = encoder.fit_transform(avaliacoes['curso_categoria'])\n",
    "\n",
    "    cursos_avaliados = avaliacoes_usuario['curso_nome']\n",
    "    cursos_nao_avaliados = avaliacoes['curso_nome'][~avaliacoes['curso_nome'].isin(cursos_avaliados)]\n",
    "    \n",
    "    cursos_nao_avaliados = avaliacoes[~avaliacoes['curso_nome'].isin(cursos_avaliados)]['curso_nome'].unique()\n",
    "    \n",
    "    cursos_nao_avaliados = pd.DataFrame({'curso_nome': cursos_nao_avaliados})\n",
    "    cursos_nao_avaliados = cursos_nao_avaliados.merge(\n",
    "        avaliacoes.groupby('curso_nome')['curso_avaliacao'].mean(),\n",
    "        on='curso_nome',\n",
    "        how='left'\n",
    "    )\n",
    "    cursos_nao_avaliados = cursos_nao_avaliados.merge(\n",
    "        avaliacoes.groupby('curso_nome')['curso_categoria_enc'].first(),\n",
    "        on='curso_nome',\n",
    "        how='left'\n",
    "    )\n",
    "\n",
    "    X_train, y_train = avaliacoes[['curso_media_avaliacao', 'curso_categoria_enc']], avaliacoes['curso_avaliacao']\n",
    "    X_test = cursos_nao_avaliados[['curso_media_avaliacao', 'curso_categoria_enc']]\n",
    "    \n",
    "    reg = LinearRegression()\n",
    "    reg.fit(X_train, y_train)\n",
    "    \n",
    "    cursos_nao_avaliados['predicted_rating'] = reg.predict(X_test)\n",
    "    \n",
    "    cursos_nao_avaliados.sort_values(by='predicted_rating', ascending=False, inplace=True)\n",
    "    \n",
    "    return cursos_nao_avaliados['curso_nome'][:5].tolist()\n"
   ]
  },
  {
   "cell_type": "code",
   "execution_count": 145,
   "metadata": {},
   "outputs": [
    {
     "ename": "KeyError",
     "evalue": "'usuario_id'",
     "output_type": "error",
     "traceback": [
      "\u001b[1;31m---------------------------------------------------------------------------\u001b[0m",
      "\u001b[1;31mKeyError\u001b[0m                                  Traceback (most recent call last)",
      "File \u001b[1;32mc:\\Python310\\lib\\site-packages\\pandas\\core\\indexes\\base.py:3652\u001b[0m, in \u001b[0;36mIndex.get_loc\u001b[1;34m(self, key)\u001b[0m\n\u001b[0;32m   3651\u001b[0m \u001b[39mtry\u001b[39;00m:\n\u001b[1;32m-> 3652\u001b[0m     \u001b[39mreturn\u001b[39;00m \u001b[39mself\u001b[39;49m\u001b[39m.\u001b[39;49m_engine\u001b[39m.\u001b[39;49mget_loc(casted_key)\n\u001b[0;32m   3653\u001b[0m \u001b[39mexcept\u001b[39;00m \u001b[39mKeyError\u001b[39;00m \u001b[39mas\u001b[39;00m err:\n",
      "File \u001b[1;32mc:\\Python310\\lib\\site-packages\\pandas\\_libs\\index.pyx:147\u001b[0m, in \u001b[0;36mpandas._libs.index.IndexEngine.get_loc\u001b[1;34m()\u001b[0m\n",
      "File \u001b[1;32mc:\\Python310\\lib\\site-packages\\pandas\\_libs\\index.pyx:176\u001b[0m, in \u001b[0;36mpandas._libs.index.IndexEngine.get_loc\u001b[1;34m()\u001b[0m\n",
      "File \u001b[1;32mpandas\\_libs\\hashtable_class_helper.pxi:7080\u001b[0m, in \u001b[0;36mpandas._libs.hashtable.PyObjectHashTable.get_item\u001b[1;34m()\u001b[0m\n",
      "File \u001b[1;32mpandas\\_libs\\hashtable_class_helper.pxi:7088\u001b[0m, in \u001b[0;36mpandas._libs.hashtable.PyObjectHashTable.get_item\u001b[1;34m()\u001b[0m\n",
      "\u001b[1;31mKeyError\u001b[0m: 'usuario_id'",
      "\nThe above exception was the direct cause of the following exception:\n",
      "\u001b[1;31mKeyError\u001b[0m                                  Traceback (most recent call last)",
      "Cell \u001b[1;32mIn[145], line 3\u001b[0m\n\u001b[0;32m      1\u001b[0m avaliacoes_usuario \u001b[39m=\u001b[39m obter_cursos_avaliados_usuario(\u001b[39m'\u001b[39m\u001b[39musuario1\u001b[39m\u001b[39m'\u001b[39m, df)\n\u001b[0;32m      2\u001b[0m amigos_avaliaram \u001b[39m=\u001b[39m df[df[\u001b[39m'\u001b[39m\u001b[39mamigo_id\u001b[39m\u001b[39m'\u001b[39m]\u001b[39m.\u001b[39mnotnull()][\u001b[39m'\u001b[39m\u001b[39mamigo_id\u001b[39m\u001b[39m'\u001b[39m]\u001b[39m.\u001b[39munique()\n\u001b[1;32m----> 3\u001b[0m avaliacoes_amigos \u001b[39m=\u001b[39m obter_cursos_avaliados_amigos(\u001b[39m'\u001b[39;49m\u001b[39musuario1\u001b[39;49m\u001b[39m'\u001b[39;49m, df) \u001b[39mif\u001b[39;00m \u001b[39mlen\u001b[39m(amigos_avaliaram) \u001b[39m>\u001b[39m \u001b[39m0\u001b[39m \u001b[39melse\u001b[39;00m pd\u001b[39m.\u001b[39mDataFrame()\n\u001b[0;32m      4\u001b[0m cursos_recomendados \u001b[39m=\u001b[39m recomendar_cursos(avaliacoes_usuario, avaliacoes_amigos)\n\u001b[0;32m      5\u001b[0m \u001b[39mprint\u001b[39m(cursos_recomendados)\n",
      "Cell \u001b[1;32mIn[136], line 5\u001b[0m, in \u001b[0;36mobter_cursos_avaliados_amigos\u001b[1;34m(usuario_id, df)\u001b[0m\n\u001b[0;32m      3\u001b[0m amigos_cursos \u001b[39m=\u001b[39m []\n\u001b[0;32m      4\u001b[0m \u001b[39mfor\u001b[39;00m amigo \u001b[39min\u001b[39;00m amigos_avaliaram:\n\u001b[1;32m----> 5\u001b[0m     cursos_avaliados_amigo \u001b[39m=\u001b[39m df[(df[\u001b[39m'\u001b[39m\u001b[39mamigo_id\u001b[39m\u001b[39m'\u001b[39m] \u001b[39m==\u001b[39m amigo) \u001b[39m&\u001b[39m (df[\u001b[39m'\u001b[39;49m\u001b[39musuario_id\u001b[39;49m\u001b[39m'\u001b[39;49m] \u001b[39m!=\u001b[39m usuario_id)][[\u001b[39m'\u001b[39m\u001b[39mcurso_nome\u001b[39m\u001b[39m'\u001b[39m, \u001b[39m'\u001b[39m\u001b[39mavaliacao\u001b[39m\u001b[39m'\u001b[39m]]\n\u001b[0;32m      6\u001b[0m     \u001b[39mif\u001b[39;00m \u001b[39mnot\u001b[39;00m cursos_avaliados_amigo\u001b[39m.\u001b[39mempty:\n\u001b[0;32m      7\u001b[0m         cursos_avaliados_amigo \u001b[39m=\u001b[39m cursos_avaliados_amigo\u001b[39m.\u001b[39mgroupby(\u001b[39m'\u001b[39m\u001b[39mcurso_nome\u001b[39m\u001b[39m'\u001b[39m)\u001b[39m.\u001b[39mmean()\n",
      "File \u001b[1;32mc:\\Python310\\lib\\site-packages\\pandas\\core\\frame.py:3760\u001b[0m, in \u001b[0;36mDataFrame.__getitem__\u001b[1;34m(self, key)\u001b[0m\n\u001b[0;32m   3758\u001b[0m \u001b[39mif\u001b[39;00m \u001b[39mself\u001b[39m\u001b[39m.\u001b[39mcolumns\u001b[39m.\u001b[39mnlevels \u001b[39m>\u001b[39m \u001b[39m1\u001b[39m:\n\u001b[0;32m   3759\u001b[0m     \u001b[39mreturn\u001b[39;00m \u001b[39mself\u001b[39m\u001b[39m.\u001b[39m_getitem_multilevel(key)\n\u001b[1;32m-> 3760\u001b[0m indexer \u001b[39m=\u001b[39m \u001b[39mself\u001b[39;49m\u001b[39m.\u001b[39;49mcolumns\u001b[39m.\u001b[39;49mget_loc(key)\n\u001b[0;32m   3761\u001b[0m \u001b[39mif\u001b[39;00m is_integer(indexer):\n\u001b[0;32m   3762\u001b[0m     indexer \u001b[39m=\u001b[39m [indexer]\n",
      "File \u001b[1;32mc:\\Python310\\lib\\site-packages\\pandas\\core\\indexes\\base.py:3654\u001b[0m, in \u001b[0;36mIndex.get_loc\u001b[1;34m(self, key)\u001b[0m\n\u001b[0;32m   3652\u001b[0m     \u001b[39mreturn\u001b[39;00m \u001b[39mself\u001b[39m\u001b[39m.\u001b[39m_engine\u001b[39m.\u001b[39mget_loc(casted_key)\n\u001b[0;32m   3653\u001b[0m \u001b[39mexcept\u001b[39;00m \u001b[39mKeyError\u001b[39;00m \u001b[39mas\u001b[39;00m err:\n\u001b[1;32m-> 3654\u001b[0m     \u001b[39mraise\u001b[39;00m \u001b[39mKeyError\u001b[39;00m(key) \u001b[39mfrom\u001b[39;00m \u001b[39merr\u001b[39;00m\n\u001b[0;32m   3655\u001b[0m \u001b[39mexcept\u001b[39;00m \u001b[39mTypeError\u001b[39;00m:\n\u001b[0;32m   3656\u001b[0m     \u001b[39m# If we have a listlike key, _check_indexing_error will raise\u001b[39;00m\n\u001b[0;32m   3657\u001b[0m     \u001b[39m#  InvalidIndexError. Otherwise we fall through and re-raise\u001b[39;00m\n\u001b[0;32m   3658\u001b[0m     \u001b[39m#  the TypeError.\u001b[39;00m\n\u001b[0;32m   3659\u001b[0m     \u001b[39mself\u001b[39m\u001b[39m.\u001b[39m_check_indexing_error(key)\n",
      "\u001b[1;31mKeyError\u001b[0m: 'usuario_id'"
     ]
    }
   ],
   "source": [
    "avaliacoes_usuario = obter_cursos_avaliados_usuario('usuario1', df)\n",
    "amigos_avaliaram = df[df['amigo_id'].notnull()]['amigo_id'].unique()\n",
    "avaliacoes_amigos = obter_cursos_avaliados_amigos('usuario1', df) if len(amigos_avaliaram) > 0 else pd.DataFrame()\n",
    "cursos_recomendados = recomendar_cursos(avaliacoes_usuario, avaliacoes_amigos)\n",
    "print(cursos_recomendados)\n"
   ]
  }
 ],
 "metadata": {
  "kernelspec": {
   "display_name": "Python 3",
   "language": "python",
   "name": "python3"
  },
  "language_info": {
   "codemirror_mode": {
    "name": "ipython",
    "version": 3
   },
   "file_extension": ".py",
   "mimetype": "text/x-python",
   "name": "python",
   "nbconvert_exporter": "python",
   "pygments_lexer": "ipython3",
   "version": "3.10.1"
  },
  "orig_nbformat": 4
 },
 "nbformat": 4,
 "nbformat_minor": 2
}

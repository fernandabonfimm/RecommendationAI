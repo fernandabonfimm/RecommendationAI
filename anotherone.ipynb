{
 "cells": [
  {
   "cell_type": "code",
   "execution_count": 1,
   "metadata": {},
   "outputs": [],
   "source": [
    "import json\n",
    "import numpy as np\n",
    "from sklearn.feature_extraction.text import CountVectorizer\n",
    "from sklearn.metrics.pairwise import cosine_similarity"
   ]
  },
  {
   "cell_type": "code",
   "execution_count": 2,
   "metadata": {},
   "outputs": [],
   "source": [
    "def obter_dados(fonte, fonte_amigos=None):\n",
    "    if fonte == 'json':\n",
    "        with open('cursos.json') as f:\n",
    "            dados = json.load(f)\n",
    "    elif fonte == 'webhook':\n",
    "        url = 'https://exemplo.com/api/dados'\n",
    "        response = requests.get(url)\n",
    "        dados = response.json()\n",
    "    else:\n",
    "        raise ValueError('Fonte de dados inválida')\n",
    "\n",
    "    if fonte_amigos == 'json':\n",
    "        with open('amigos.json') as f:\n",
    "            amigos = json.load(f)\n",
    "    elif fonte_amigos == 'webhook':\n",
    "        url = 'https://exemplo.com/api/amigos'\n",
    "        response = requests.get(url)\n",
    "        amigos = response.json()\n",
    "    else:\n",
    "        amigos = []\n",
    "\n",
    "    return dados, amigos"
   ]
  },
  {
   "cell_type": "code",
   "execution_count": 3,
   "metadata": {},
   "outputs": [],
   "source": [
    "fonte = input('Digite a fonte dos dados (json ou webhook): ')\n",
    "fonte_amigos = input('Digite a fonte dos amigos (json, webhook ou nenhum): ')\n",
    "dados, amigos = obter_dados(fonte, fonte_amigos)"
   ]
  },
  {
   "cell_type": "code",
   "execution_count": 5,
   "metadata": {},
   "outputs": [],
   "source": [
    "cursos = []\n",
    "amigos = []\n",
    "avaliacoes = []\n",
    "for usuario in dados['usuarios']:\n",
    "    for curso in usuario['cursos']:\n",
    "        cursos.append(curso['nome'])\n",
    "        avaliacoes.append(curso['avaliacao'])\n",
    "    for amigo in usuario['amigos']:\n",
    "        amigos.append(amigo['nome'])\n",
    "        for curso in amigo['cursos']:\n",
    "            cursos.append(curso['nome'])\n",
    "            avaliacoes.append(curso['avaliacao'])"
   ]
  },
  {
   "cell_type": "code",
   "execution_count": 6,
   "metadata": {},
   "outputs": [],
   "source": [
    "vectorizer = CountVectorizer()\n",
    "X = vectorizer.fit_transform(cursos)"
   ]
  },
  {
   "cell_type": "code",
   "execution_count": 7,
   "metadata": {},
   "outputs": [],
   "source": [
    "similarity_matrix = cosine_similarity(X)"
   ]
  },
  {
   "cell_type": "code",
   "execution_count": 8,
   "metadata": {},
   "outputs": [],
   "source": [
    "def recomendar_cursos(usuario, pesquisas):\n",
    "    idx_usuario = amigos.index(usuario)\n",
    "    cursos_usuario = []\n",
    "    for curso in dados['usuarios'][idx_usuario]['cursos']:\n",
    "        cursos_usuario.append(curso['nome'])\n",
    "    for amigo in amigos['usuarios'][idx_usuario]['amigos']:\n",
    "        for curso in amigo['cursos']:\n",
    "            cursos_usuario.append(curso['nome'])\n",
    "    cursos_usuario += pesquisas\n",
    "\n",
    "    curso_vec = np.zeros((1, len(vectorizer.get_feature_names())))\n",
    "    for curso in cursos_usuario:\n",
    "        idx_curso = vectorizer.get_feature_names().index(curso)\n",
    "        curso_vec[0, idx_curso] += 1\n",
    "    \n",
    "    similarity_vec = cosine_similarity(curso_vec, X)\n",
    "\n",
    "    idx_recomendados = np.argsort(similarity_vec)[0, ::-1][:10]\n",
    "    \n",
    "    recomendados = []\n",
    "    for idx in idx_recomendados:\n",
    "        recomendados.append((cursos[idx], avaliacoes[idx]))\n",
    "    \n",
    "    return recomendados\n"
   ]
  }
 ],
 "metadata": {
  "kernelspec": {
   "display_name": "Python 3",
   "language": "python",
   "name": "python3"
  },
  "language_info": {
   "codemirror_mode": {
    "name": "ipython",
    "version": 3
   },
   "file_extension": ".py",
   "mimetype": "text/x-python",
   "name": "python",
   "nbconvert_exporter": "python",
   "pygments_lexer": "ipython3",
   "version": "3.10.1"
  },
  "orig_nbformat": 4
 },
 "nbformat": 4,
 "nbformat_minor": 2
}

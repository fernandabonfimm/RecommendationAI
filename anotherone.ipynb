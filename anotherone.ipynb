{
 "cells": [
  {
   "cell_type": "code",
   "execution_count": 160,
   "metadata": {},
   "outputs": [],
   "source": [
    "import json\n",
    "import pandas as pd\n",
    "from sklearn.linear_model import LinearRegression\n",
    "from sklearn.model_selection import train_test_split"
   ]
  },
  {
   "cell_type": "code",
   "execution_count": 161,
   "metadata": {},
   "outputs": [],
   "source": [
    "\n",
    "def obter_dados(fonte, fonte_amigos=None):\n",
    "    if fonte == 'json':\n",
    "        with open('cursos.json') as f:\n",
    "            dados = json.load(f)\n",
    "    elif fonte == 'webhook':\n",
    "        url = 'https://exemplo.com/api/dados'\n",
    "        response = requests.get(url)\n",
    "        dados = response.json()\n",
    "    else:\n",
    "        raise ValueError('Fonte de dados inválida')\n",
    "\n",
    "    if fonte_amigos == 'json':\n",
    "        with open('amigos.json') as f:\n",
    "            amigos = json.load(f)\n",
    "    elif fonte_amigos == 'webhook':\n",
    "        url = 'https://exemplo.com/api/amigos'\n",
    "        response = requests.get(url)\n",
    "        amigos = response.json()\n",
    "    else:\n",
    "        amigos = []\n",
    "\n",
    "    return dados, amigos"
   ]
  },
  {
   "cell_type": "code",
   "execution_count": 162,
   "metadata": {},
   "outputs": [],
   "source": [
    "fonte = input('Digite a fonte dos dados (json ou webhook): ')\n",
    "fonte_amigos = input('Digite a fonte dos amigos (json, webhook ou nenhum): ')\n",
    "dados, amigos = obter_dados(fonte, fonte_amigos)\n",
    "df = pd.DataFrame(columns=['id', 'nome', 'idade', 'curso_nome', 'curso_categoria', 'curso_avaliacao', 'amigo_id', 'amigo_nome', 'amigo_curso_nome', 'amigo_curso_avaliacao'])\n",
    "rows = []\n",
    "for usuario in dados['usuarios']:\n",
    "    for curso in usuario['cursos']:\n",
    "        row = {\n",
    "            'id': usuario['id'],\n",
    "            'nome': usuario['nome'],\n",
    "            'idade': usuario['idade'],\n",
    "            'curso_nome': curso['nome'],\n",
    "            'curso_categoria': curso['categoria'],\n",
    "            'curso_avaliacao': curso['avaliacao'],\n",
    "            'amigo_id': None,\n",
    "            'amigo_nome': None,\n",
    "            'amigo_curso_nome': None,\n",
    "            'amigo_curso_avaliacao': None\n",
    "        }\n",
    "        rows.append(row)\n",
    "        if 'amigos' in usuario:\n",
    "            for amigo in usuario['amigos']:\n",
    "                for amigo_curso in amigo['cursos']:\n",
    "                    row = {\n",
    "                        'id': usuario['id'],\n",
    "                        'nome': usuario['nome'],\n",
    "                        'idade': usuario['idade'],\n",
    "                        'curso_nome': curso['nome'],\n",
    "                        'curso_categoria': curso['categoria'],\n",
    "                        'curso_avaliacao': curso['avaliacao'],\n",
    "                        'amigo_id': amigo['id'],\n",
    "                        'amigo_nome': amigo['nome'],\n",
    "                        'amigo_curso_nome': amigo_curso['nome'],\n",
    "                        'amigo_curso_avaliacao': amigo_curso['avaliacao']\n",
    "                    }\n",
    "                    rows.append(row)\n",
    "df = pd.DataFrame(rows)\n"
   ]
  },
  {
   "cell_type": "code",
   "execution_count": 163,
   "metadata": {},
   "outputs": [],
   "source": [
    "df.drop_duplicates(inplace=True)"
   ]
  },
  {
   "cell_type": "code",
   "execution_count": 154,
   "metadata": {},
   "outputs": [],
   "source": [
    "cursos_agrupados = df.groupby(['curso_nome', 'curso_categoria'])['curso_avaliacao'].mean().reset_index()"
   ]
  },
  {
   "cell_type": "code",
   "execution_count": 164,
   "metadata": {},
   "outputs": [],
   "source": [
    "cursos_agrupados.rename(columns={'curso_avaliacao': 'curso_media_avaliacao'}, inplace=True)"
   ]
  },
  {
   "cell_type": "code",
   "execution_count": 165,
   "metadata": {},
   "outputs": [],
   "source": [
    "df = df.merge(cursos_agrupados, on=['curso_nome', 'curso_categoria'], how='left')"
   ]
  },
  {
   "cell_type": "code",
   "execution_count": 166,
   "metadata": {},
   "outputs": [],
   "source": [
    "df.sort_values(['nome', 'curso_media_avaliacao'], ascending=[True, False], inplace=True)"
   ]
  }
 ],
 "metadata": {
  "kernelspec": {
   "display_name": "Python 3",
   "language": "python",
   "name": "python3"
  },
  "language_info": {
   "codemirror_mode": {
    "name": "ipython",
    "version": 3
   },
   "file_extension": ".py",
   "mimetype": "text/x-python",
   "name": "python",
   "nbconvert_exporter": "python",
   "pygments_lexer": "ipython3",
   "version": "3.10.1"
  },
  "orig_nbformat": 4
 },
 "nbformat": 4,
 "nbformat_minor": 2
}

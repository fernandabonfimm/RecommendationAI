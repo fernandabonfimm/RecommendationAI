{
 "cells": [
  {
   "cell_type": "code",
   "execution_count": 88,
   "metadata": {},
   "outputs": [],
   "source": [
    "import json\n",
    "import pandas as pd\n",
    "from sklearn.linear_model import LinearRegression\n",
    "from sklearn.model_selection import train_test_split"
   ]
  },
  {
   "cell_type": "code",
   "execution_count": 89,
   "metadata": {},
   "outputs": [],
   "source": [
    "\n",
    "def obter_dados(fonte, fonte_amigos=None):\n",
    "    if fonte == 'json':\n",
    "        with open('cursos.json') as f:\n",
    "            dados = json.load(f)\n",
    "    elif fonte == 'webhook':\n",
    "        url = 'https://exemplo.com/api/dados'\n",
    "        response = requests.get(url)\n",
    "        dados = response.json()\n",
    "    else:\n",
    "        raise ValueError('Fonte de dados inválida')\n",
    "\n",
    "    if fonte_amigos == 'json':\n",
    "        with open('amigos.json') as f:\n",
    "            amigos = json.load(f)\n",
    "    elif fonte_amigos == 'webhook':\n",
    "        url = 'https://exemplo.com/api/amigos'\n",
    "        response = requests.get(url)\n",
    "        amigos = response.json()\n",
    "    else:\n",
    "        amigos = []\n",
    "\n",
    "    return dados, amigos"
   ]
  },
  {
   "cell_type": "code",
   "execution_count": 91,
   "metadata": {},
   "outputs": [],
   "source": [
    "def obter_cursos_avaliados_usuario(usuario_id, df):\n",
    "    return df[df['id'] == usuario_id]['curso_nome'].unique()"
   ]
  },
  {
   "cell_type": "code",
   "execution_count": 92,
   "metadata": {},
   "outputs": [],
   "source": [
    "def obter_cursos_avaliados_usuario(usuario_id, df):\n",
    "    return df[df['id'] == usuario_id]['curso_nome'].unique()"
   ]
  },
  {
   "cell_type": "code",
   "execution_count": 93,
   "metadata": {},
   "outputs": [],
   "source": [
    "def obter_cursos_avaliados_amigos(usuario_id, df):\n",
    "    amigos_avaliaram = df[df['amigo_id'].notnull()]['amigo_id'].unique()\n",
    "    amigos_cursos = []\n",
    "    for amigo in amigos_avaliaram:\n",
    "        cursos_avaliados_amigo = df[(df['amigo_id'] == amigo) & (df['usuario_id'] != usuario_id)][['curso_nome', 'avaliacao']]\n",
    "        if not cursos_avaliados_amigo.empty:\n",
    "            cursos_avaliados_amigo = cursos_avaliados_amigo.groupby('curso_nome').mean()\n",
    "            amigos_cursos.append(cursos_avaliados_amigo)\n",
    "    return pd.concat(amigos_cursos).reset_index()"
   ]
  },
  {
   "cell_type": "code",
   "execution_count": 94,
   "metadata": {},
   "outputs": [],
   "source": [
    "def recomendar_cursos(avaliacoes_usuario, avaliacoes_amigos):\n",
    "    df = pd.concat([avaliacoes_usuario, avaliacoes_amigos], ignore_index=True)\n",
    "    df.drop_duplicates(subset=['curso_nome'], keep='first', inplace=True)\n",
    "    \n",
    "    X = df[['curso_media_avaliacao']]\n",
    "    y = df['curso_nome']\n",
    "    X_train, X_test, y_train, y_test = train_test_split(X, y, test_size=0.2, random_state=42)\n",
    "    \n",
    "    reg = LinearRegression().fit(X_train, y_train)\n",
    "    \n",
    "    cursos_recomendados = list(reg.predict(X_test))\n",
    "    return cursos_recomendados"
   ]
  },
  {
   "cell_type": "code",
   "execution_count": 95,
   "metadata": {},
   "outputs": [],
   "source": [
    "fonte = input('Digite a fonte dos dados (json ou webhook): ')\n",
    "fonte_amigos = input('Digite a fonte dos amigos (json, webhook ou nenhum): ')\n",
    "dados, amigos = obter_dados(fonte, fonte_amigos)\n",
    "df = pd.DataFrame(columns=['id', 'nome', 'idade', 'curso_nome', 'curso_categoria', 'curso_avaliacao', 'amigo_id', 'amigo_nome', 'amigo_curso_nome', 'amigo_curso_avaliacao'])"
   ]
  },
  {
   "cell_type": "code",
   "execution_count": 96,
   "metadata": {},
   "outputs": [],
   "source": [
    "rows = []\n",
    "for usuario in data['usuarios']:\n",
    "    for curso in usuario['cursos']:\n",
    "        row = {\n",
    "            'id': usuario['id'],\n",
    "            'nome': usuario['nome'],\n",
    "            'idade': usuario['idade'],\n",
    "            'curso_nome': curso['nome'],\n",
    "            'curso_categoria': curso['categoria'],\n",
    "            'curso_avaliacao': curso['avaliacao'],\n",
    "            'amigo_id': None,\n",
    "            'amigo_nome': None,\n",
    "            'amigo_curso_nome': None,\n",
    "            'amigo_curso_avaliacao': None\n",
    "        }\n",
    "        rows.append(row)\n",
    "\n",
    "        for amigo in usuario['amigos']:\n",
    "            for curso in amigo['cursos']:\n",
    "                row = {\n",
    "                    'id': usuario['id'],\n",
    "                    'nome': usuario['nome'],\n",
    "                    'idade': usuario['idade'],\n",
    "                    'curso_nome': None,\n",
    "                    'curso_categoria': None,\n",
    "                    'curso_avaliacao': None,\n",
    "                    'amigo_id': amigo['id'],\n",
    "                    'amigo_nome': amigo['nome'],\n",
    "                    'amigo_curso_nome': curso['nome'],\n",
    "                    'amigo_curso_avaliacao': curso['avaliacao']\n",
    "                }\n",
    "                rows.append(row)\n",
    "\n",
    "df = pd.DataFrame(rows)"
   ]
  },
  {
   "cell_type": "code",
   "execution_count": 97,
   "metadata": {},
   "outputs": [],
   "source": [
    "df.drop_duplicates(inplace=True)"
   ]
  },
  {
   "cell_type": "code",
   "execution_count": 98,
   "metadata": {},
   "outputs": [],
   "source": [
    "cursos_agrupados = df.groupby(['curso_nome', 'curso_categoria'])['curso_avaliacao'].mean().reset_index()"
   ]
  },
  {
   "cell_type": "code",
   "execution_count": 99,
   "metadata": {},
   "outputs": [],
   "source": [
    "cursos_agrupados.rename(columns={'curso_avaliacao': 'curso_media_avaliacao'}, inplace=True)"
   ]
  },
  {
   "cell_type": "code",
   "execution_count": 100,
   "metadata": {},
   "outputs": [],
   "source": [
    "df = df.merge(cursos_agrupados, on=['curso_nome', 'curso_categoria'], how='left')"
   ]
  },
  {
   "cell_type": "code",
   "execution_count": 101,
   "metadata": {},
   "outputs": [],
   "source": [
    "df.sort_values(['nome', 'curso_media_avaliacao'], ascending=[True, False], inplace=True)"
   ]
  },
  {
   "cell_type": "code",
   "execution_count": 102,
   "metadata": {},
   "outputs": [
    {
     "name": "stdout",
     "output_type": "stream",
     "text": [
      "   id   nome  idade                                      curso_nome   \n",
      "0   1  JoÃ£o     25         IntroduÃ§Ã£o Ã  ProgramaÃ§Ã£o em Python  \\\n",
      "9   1  JoÃ£o     25                          InglÃªs IntermediÃ¡rio   \n",
      "8   1  JoÃ£o     25  Desenvolvimento Web com HTML, CSS e JavaScript   \n",
      "1   1  JoÃ£o     25                                            None   \n",
      "2   1  JoÃ£o     25                                            None   \n",
      "\n",
      "  curso_categoria  curso_avaliacao  amigo_id amigo_nome    amigo_curso_nome   \n",
      "0   ProgramaÃ§Ã£o              4.5       NaN       None                None  \\\n",
      "9         Idiomas              4.0       NaN       None                None   \n",
      "8   ProgramaÃ§Ã£o              3.5       NaN       None                None   \n",
      "1            None              NaN       5.0      Maria  FinanÃ§as Pessoais   \n",
      "2            None              NaN       5.0      Maria   Marketing Digital   \n",
      "\n",
      "   amigo_curso_avaliacao  curso_media_avaliacao  \n",
      "0                    NaN                    4.5  \n",
      "9                    NaN                    4.0  \n",
      "8                    NaN                    3.5  \n",
      "1                    4.2                    NaN  \n",
      "2                    3.8                    NaN  \n"
     ]
    }
   ],
   "source": [
    "print(df.head())"
   ]
  },
  {
   "cell_type": "code",
   "execution_count": 104,
   "metadata": {},
   "outputs": [],
   "source": [
    "def recomendar_cursos(avaliacoes_usuario, avaliacoes_amigos):\n",
    "    avaliacoes = pd.concat([avaliacoes_usuario] + avaliacoes_amigos, axis=0)\n",
    "\n",
    "    X_train, X_test, y_train, y_test = train_test_split(\n",
    "        avaliacoes[['curso_media_avaliacao', 'curso_categoria_enc']],\n",
    "        avaliacoes['curso_avaliacao'],\n",
    "        test_size=0.2,\n",
    "        random_state=42\n",
    "    )\n",
    "    reg = LinearRegression()\n",
    "    reg.fit(X_train, y_train)\n",
    "\n",
    "    cursos_avaliados = avaliacoes_usuario['curso_nome']\n",
    "    cursos_nao_avaliados = avaliacoes['curso_nome'][~avaliacoes['curso_nome'].isin(cursos_avaliados)]\n",
    "    cursos_recomendados = []\n",
    "    for curso in cursos_nao_avaliados:\n",
    "        curso_avaliacao_media = avaliacoes[avaliacoes['curso_nome'] == curso]['curso_media_avaliacao'].iloc[0]\n",
    "        curso_categoria_enc = avaliacoes[avaliacoes['curso_nome'] == curso]['curso_categoria_enc'].iloc[0]\n",
    "        nota_prevista = reg.predict(np.array([[curso_avaliacao_media, curso_categoria_enc]]))[0]\n",
    "        cursos_recomendados.append((curso, nota_prevista))\n",
    "\n",
    "    cursos_recomendados = sorted(cursos_recomendados, key=lambda x: x[1], reverse=True)\n",
    "\n",
    "    return [curso[0] for curso in cursos_recomendados]"
   ]
  },
  {
   "cell_type": "code",
   "execution_count": 105,
   "metadata": {},
   "outputs": [
    {
     "ename": "ValueError",
     "evalue": "No objects to concatenate",
     "output_type": "error",
     "traceback": [
      "\u001b[1;31m---------------------------------------------------------------------------\u001b[0m",
      "\u001b[1;31mValueError\u001b[0m                                Traceback (most recent call last)",
      "Cell \u001b[1;32mIn[105], line 3\u001b[0m\n\u001b[0;32m      1\u001b[0m avaliacoes_usuario \u001b[39m=\u001b[39m obter_cursos_avaliados_usuario(\u001b[39m'\u001b[39m\u001b[39musuario1\u001b[39m\u001b[39m'\u001b[39m, df)\n\u001b[0;32m      2\u001b[0m amigos_avaliaram \u001b[39m=\u001b[39m df[df[\u001b[39m'\u001b[39m\u001b[39mamigo_id\u001b[39m\u001b[39m'\u001b[39m]\u001b[39m.\u001b[39mnotnull()][\u001b[39m'\u001b[39m\u001b[39mamigo_id\u001b[39m\u001b[39m'\u001b[39m]\u001b[39m.\u001b[39munique()\n\u001b[1;32m----> 3\u001b[0m avaliacoes_amigos \u001b[39m=\u001b[39m obter_cursos_avaliados_amigos(\u001b[39m'\u001b[39;49m\u001b[39musuario1\u001b[39;49m\u001b[39m'\u001b[39;49m, df) \u001b[39mif\u001b[39;00m \u001b[39mlen\u001b[39m(amigos_avaliaram) \u001b[39m>\u001b[39m \u001b[39m0\u001b[39m \u001b[39melse\u001b[39;00m pd\u001b[39m.\u001b[39mDataFrame()\n\u001b[0;32m      4\u001b[0m cursos_recomendados \u001b[39m=\u001b[39m recomendar_cursos(avaliacoes_usuario, avaliacoes_amigos)\n\u001b[0;32m      5\u001b[0m \u001b[39mprint\u001b[39m(cursos_recomendados)\n",
      "Cell \u001b[1;32mIn[93], line 8\u001b[0m, in \u001b[0;36mobter_cursos_avaliados_amigos\u001b[1;34m(usuario_id, df)\u001b[0m\n\u001b[0;32m      6\u001b[0m     cursos_avaliados_amigo \u001b[39m=\u001b[39m cursos_avaliados_amigo\u001b[39m.\u001b[39mgroupby(\u001b[39m'\u001b[39m\u001b[39mcurso_nome\u001b[39m\u001b[39m'\u001b[39m)\u001b[39m.\u001b[39mmean()\n\u001b[0;32m      7\u001b[0m     amigos_cursos\u001b[39m.\u001b[39mappend(cursos_avaliados_amigo)\n\u001b[1;32m----> 8\u001b[0m \u001b[39mreturn\u001b[39;00m pd\u001b[39m.\u001b[39;49mconcat(amigos_cursos)\u001b[39m.\u001b[39mreset_index()\n",
      "File \u001b[1;32mc:\\Python310\\lib\\site-packages\\pandas\\core\\reshape\\concat.py:372\u001b[0m, in \u001b[0;36mconcat\u001b[1;34m(objs, axis, join, ignore_index, keys, levels, names, verify_integrity, sort, copy)\u001b[0m\n\u001b[0;32m    369\u001b[0m \u001b[39melif\u001b[39;00m copy \u001b[39mand\u001b[39;00m using_copy_on_write():\n\u001b[0;32m    370\u001b[0m     copy \u001b[39m=\u001b[39m \u001b[39mFalse\u001b[39;00m\n\u001b[1;32m--> 372\u001b[0m op \u001b[39m=\u001b[39m _Concatenator(\n\u001b[0;32m    373\u001b[0m     objs,\n\u001b[0;32m    374\u001b[0m     axis\u001b[39m=\u001b[39;49maxis,\n\u001b[0;32m    375\u001b[0m     ignore_index\u001b[39m=\u001b[39;49mignore_index,\n\u001b[0;32m    376\u001b[0m     join\u001b[39m=\u001b[39;49mjoin,\n\u001b[0;32m    377\u001b[0m     keys\u001b[39m=\u001b[39;49mkeys,\n\u001b[0;32m    378\u001b[0m     levels\u001b[39m=\u001b[39;49mlevels,\n\u001b[0;32m    379\u001b[0m     names\u001b[39m=\u001b[39;49mnames,\n\u001b[0;32m    380\u001b[0m     verify_integrity\u001b[39m=\u001b[39;49mverify_integrity,\n\u001b[0;32m    381\u001b[0m     copy\u001b[39m=\u001b[39;49mcopy,\n\u001b[0;32m    382\u001b[0m     sort\u001b[39m=\u001b[39;49msort,\n\u001b[0;32m    383\u001b[0m )\n\u001b[0;32m    385\u001b[0m \u001b[39mreturn\u001b[39;00m op\u001b[39m.\u001b[39mget_result()\n",
      "File \u001b[1;32mc:\\Python310\\lib\\site-packages\\pandas\\core\\reshape\\concat.py:429\u001b[0m, in \u001b[0;36m_Concatenator.__init__\u001b[1;34m(self, objs, axis, join, keys, levels, names, ignore_index, verify_integrity, copy, sort)\u001b[0m\n\u001b[0;32m    426\u001b[0m     objs \u001b[39m=\u001b[39m \u001b[39mlist\u001b[39m(objs)\n\u001b[0;32m    428\u001b[0m \u001b[39mif\u001b[39;00m \u001b[39mlen\u001b[39m(objs) \u001b[39m==\u001b[39m \u001b[39m0\u001b[39m:\n\u001b[1;32m--> 429\u001b[0m     \u001b[39mraise\u001b[39;00m \u001b[39mValueError\u001b[39;00m(\u001b[39m\"\u001b[39m\u001b[39mNo objects to concatenate\u001b[39m\u001b[39m\"\u001b[39m)\n\u001b[0;32m    431\u001b[0m \u001b[39mif\u001b[39;00m keys \u001b[39mis\u001b[39;00m \u001b[39mNone\u001b[39;00m:\n\u001b[0;32m    432\u001b[0m     objs \u001b[39m=\u001b[39m \u001b[39mlist\u001b[39m(com\u001b[39m.\u001b[39mnot_none(\u001b[39m*\u001b[39mobjs))\n",
      "\u001b[1;31mValueError\u001b[0m: No objects to concatenate"
     ]
    }
   ],
   "source": [
    "avaliacoes_usuario = obter_cursos_avaliados_usuario('usuario1', df)\n",
    "amigos_avaliaram = df[df['amigo_id'].notnull()]['amigo_id'].unique()\n",
    "avaliacoes_amigos = obter_cursos_avaliados_amigos('usuario1', df) if len(amigos_avaliaram) > 0 else pd.DataFrame()\n",
    "cursos_recomendados = recomendar_cursos(avaliacoes_usuario, avaliacoes_amigos)\n",
    "print(cursos_recomendados)\n"
   ]
  }
 ],
 "metadata": {
  "kernelspec": {
   "display_name": "Python 3",
   "language": "python",
   "name": "python3"
  },
  "language_info": {
   "codemirror_mode": {
    "name": "ipython",
    "version": 3
   },
   "file_extension": ".py",
   "mimetype": "text/x-python",
   "name": "python",
   "nbconvert_exporter": "python",
   "pygments_lexer": "ipython3",
   "version": "3.10.1"
  },
  "orig_nbformat": 4
 },
 "nbformat": 4,
 "nbformat_minor": 2
}

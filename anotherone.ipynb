{
 "cells": [
  {
   "cell_type": "code",
   "execution_count": 24,
   "metadata": {},
   "outputs": [],
   "source": [
    "import json\n",
    "import pandas as pd\n",
    "from sklearn.linear_model import LinearRegression\n",
    "from sklearn.model_selection import train_test_split"
   ]
  },
  {
   "cell_type": "code",
   "execution_count": 43,
   "metadata": {},
   "outputs": [],
   "source": [
    "\n",
    "def obter_dados(fonte, fonte_amigos=None):\n",
    "    if fonte == 'json':\n",
    "        with open('cursos.json') as f:\n",
    "            dados = json.load(f)\n",
    "    elif fonte == 'webhook':\n",
    "        url = 'https://exemplo.com/api/dados'\n",
    "        response = requests.get(url)\n",
    "        dados = response.json()\n",
    "    else:\n",
    "        raise ValueError('Fonte de dados inválida')\n",
    "\n",
    "    if fonte_amigos == 'json':\n",
    "        with open('amigos.json') as f:\n",
    "            amigos = json.load(f)\n",
    "    elif fonte_amigos == 'webhook':\n",
    "        url = 'https://exemplo.com/api/amigos'\n",
    "        response = requests.get(url)\n",
    "        amigos = response.json()\n",
    "    else:\n",
    "        amigos = []\n",
    "\n",
    "    return dados, amigos"
   ]
  },
  {
   "cell_type": "code",
   "execution_count": 44,
   "metadata": {},
   "outputs": [],
   "source": [
    "def obter_cursos_avaliados_usuario(usuario_id, df):\n",
    "    return df[df['id'] == usuario_id]['curso_nome'].unique()"
   ]
  },
  {
   "cell_type": "code",
   "execution_count": 45,
   "metadata": {},
   "outputs": [],
   "source": [
    "def obter_cursos_avaliados_amigos(usuario_id, df):\n",
    "    amigos_ids = df[df['id'] == usuario_id]['amigo_id'].unique()\n",
    "    amigos_cursos = []\n",
    "    for amigo_id in amigos_ids:\n",
    "        cursos_avaliados_amigo = df[df['amigo_id'] == amigo_id][['curso_nome', 'curso_avaliacao']]\n",
    "        cursos_avaliados_amigo = cursos_avaliados_amigo.groupby('curso_nome').mean()\n",
    "        amigos_cursos.append(cursos_avaliados_amigo)\n",
    "    return pd.concat(amigos_cursos).reset_index()"
   ]
  },
  {
   "cell_type": "code",
   "execution_count": 47,
   "metadata": {},
   "outputs": [],
   "source": [
    "fonte = input('Digite a fonte dos dados (json ou webhook): ')\n",
    "fonte_amigos = input('Digite a fonte dos amigos (json, webhook ou nenhum): ')\n",
    "dados, amigos = obter_dados(fonte, fonte_amigos)"
   ]
  },
  {
   "cell_type": "code",
   "execution_count": 48,
   "metadata": {},
   "outputs": [],
   "source": [
    "df = pd.DataFrame(columns=['id', 'nome', 'idade', 'curso_nome', 'curso_categoria', 'curso_avaliacao', 'amigo_id', 'amigo_nome', 'amigo_curso_nome', 'amigo_curso_avaliacao'])"
   ]
  },
  {
   "cell_type": "code",
   "execution_count": 49,
   "metadata": {},
   "outputs": [],
   "source": [
    "rows = []\n",
    "for usuario in data['usuarios']:\n",
    "    for curso in usuario['cursos']:\n",
    "        row = {\n",
    "            'id': usuario['id'],\n",
    "            'nome': usuario['nome'],\n",
    "            'idade': usuario['idade'],\n",
    "            'curso_nome': curso['nome'],\n",
    "            'curso_categoria': curso['categoria'],\n",
    "            'curso_avaliacao': curso['avaliacao'],\n",
    "            'amigo_id': None,\n",
    "            'amigo_nome': None,\n",
    "            'amigo_curso_nome': None,\n",
    "            'amigo_curso_avaliacao': None\n",
    "        }\n",
    "        rows.append(row)\n",
    "\n",
    "        for amigo in usuario['amigos']:\n",
    "            for curso in amigo['cursos']:\n",
    "                row = {\n",
    "                    'id': usuario['id'],\n",
    "                    'nome': usuario['nome'],\n",
    "                    'idade': usuario['idade'],\n",
    "                    'curso_nome': None,\n",
    "                    'curso_categoria': None,\n",
    "                    'curso_avaliacao': None,\n",
    "                    'amigo_id': amigo['id'],\n",
    "                    'amigo_nome': amigo['nome'],\n",
    "                    'amigo_curso_nome': curso['nome'],\n",
    "                    'amigo_curso_avaliacao': curso['avaliacao']\n",
    "                }\n",
    "                rows.append(row)\n",
    "\n",
    "df = pd.DataFrame(rows)"
   ]
  },
  {
   "cell_type": "code",
   "execution_count": 50,
   "metadata": {},
   "outputs": [],
   "source": [
    "df.drop_duplicates(inplace=True)"
   ]
  },
  {
   "cell_type": "code",
   "execution_count": 51,
   "metadata": {},
   "outputs": [],
   "source": [
    "cursos_agrupados = df.groupby(['curso_nome', 'curso_categoria'])['curso_avaliacao'].mean().reset_index()"
   ]
  },
  {
   "cell_type": "code",
   "execution_count": 52,
   "metadata": {},
   "outputs": [],
   "source": [
    "cursos_agrupados.rename(columns={'curso_avaliacao': 'curso_media_avaliacao'}, inplace=True)"
   ]
  },
  {
   "cell_type": "code",
   "execution_count": 53,
   "metadata": {},
   "outputs": [],
   "source": [
    "df = df.merge(cursos_agrupados, on=['curso_nome', 'curso_categoria'], how='left')"
   ]
  },
  {
   "cell_type": "code",
   "execution_count": 54,
   "metadata": {},
   "outputs": [],
   "source": [
    "df.sort_values(['nome', 'curso_media_avaliacao'], ascending=[True, False], inplace=True)"
   ]
  },
  {
   "cell_type": "code",
   "execution_count": 55,
   "metadata": {},
   "outputs": [
    {
     "name": "stdout",
     "output_type": "stream",
     "text": [
      "   id   nome  idade                                      curso_nome   \n",
      "0   1  JoÃ£o     25         IntroduÃ§Ã£o Ã  ProgramaÃ§Ã£o em Python  \\\n",
      "9   1  JoÃ£o     25                          InglÃªs IntermediÃ¡rio   \n",
      "8   1  JoÃ£o     25  Desenvolvimento Web com HTML, CSS e JavaScript   \n",
      "1   1  JoÃ£o     25                                            None   \n",
      "2   1  JoÃ£o     25                                            None   \n",
      "\n",
      "  curso_categoria  curso_avaliacao  amigo_id amigo_nome    amigo_curso_nome   \n",
      "0   ProgramaÃ§Ã£o              4.5       NaN       None                None  \\\n",
      "9         Idiomas              4.0       NaN       None                None   \n",
      "8   ProgramaÃ§Ã£o              3.5       NaN       None                None   \n",
      "1            None              NaN       5.0      Maria  FinanÃ§as Pessoais   \n",
      "2            None              NaN       5.0      Maria   Marketing Digital   \n",
      "\n",
      "   amigo_curso_avaliacao  curso_media_avaliacao  \n",
      "0                    NaN                    4.5  \n",
      "9                    NaN                    4.0  \n",
      "8                    NaN                    3.5  \n",
      "1                    4.2                    NaN  \n",
      "2                    3.8                    NaN  \n"
     ]
    }
   ],
   "source": [
    "print(df.head())"
   ]
  }
 ],
 "metadata": {
  "kernelspec": {
   "display_name": "Python 3",
   "language": "python",
   "name": "python3"
  },
  "language_info": {
   "codemirror_mode": {
    "name": "ipython",
    "version": 3
   },
   "file_extension": ".py",
   "mimetype": "text/x-python",
   "name": "python",
   "nbconvert_exporter": "python",
   "pygments_lexer": "ipython3",
   "version": "3.10.1"
  },
  "orig_nbformat": 4
 },
 "nbformat": 4,
 "nbformat_minor": 2
}

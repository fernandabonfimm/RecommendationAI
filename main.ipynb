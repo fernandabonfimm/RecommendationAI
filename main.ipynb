{
 "cells": [
  {
   "cell_type": "code",
   "execution_count": 21,
   "metadata": {},
   "outputs": [],
   "source": [
    "import json\n",
    "from collections import defaultdict"
   ]
  },
  {
   "cell_type": "code",
   "execution_count": 22,
   "metadata": {},
   "outputs": [],
   "source": [
    "def obter_dados(fonte):\n",
    "    if fonte == 'json':\n",
    "        with open('cursos.json') as f:\n",
    "            dados = json.load(f)\n",
    "    elif fonte == 'webhook':\n",
    "        url = 'https://exemplo.com/api/dados'\n",
    "        response = requests.get(url)\n",
    "        dados = response.json()\n",
    "    else:\n",
    "        raise ValueError('Fonte de dados inválida')\n",
    "    return dados"
   ]
  },
  {
   "cell_type": "code",
   "execution_count": 28,
   "metadata": {},
   "outputs": [],
   "source": [
    "fonte = input('Digite a fonte dos dados (json ou webhook): ')\n",
    "dados = obter_dados(fonte)\n"
   ]
  },
  {
   "cell_type": "code",
   "execution_count": 29,
   "metadata": {},
   "outputs": [],
   "source": [
    "usuarios = dados['usuarios']"
   ]
  },
  {
   "cell_type": "code",
   "execution_count": 30,
   "metadata": {},
   "outputs": [],
   "source": [
    "usuarios = data['usuarios']\n",
    "avaliacoes = {}\n",
    "for usuario in usuarios:\n",
    "    avaliacoes[usuario['id']] = {curso['nome']: curso['avaliacao'] for curso in usuario['cursos']}\n",
    "    if 'amigos' in usuario:\n",
    "        for amigo in usuario['amigos']:\n",
    "            avaliacoes[amigo['id']] = {curso['nome']: curso['avaliacao'] for curso in amigo['cursos']}"
   ]
  },
  {
   "cell_type": "code",
   "execution_count": 35,
   "metadata": {},
   "outputs": [],
   "source": [
    "recomendacoes = {usuario['id']: [] for usuario in usuarios}\n",
    "for usuario in usuarios:\n",
    "    for outro_usuario in usuarios:\n",
    "        if usuario != outro_usuario:\n",
    "            for curso in outro_usuario['cursos']:\n",
    "                nome_curso = curso['nome']\n",
    "                if nome_curso not in usuario['cursos']:\n",
    "                    score = avaliacoes[outro_usuario['id']].get(nome_curso, 0)\n",
    "                    if 'amigos' in usuario:\n",
    "                        for amigo in usuario['amigos']:\n",
    "                            if amigo['id'] == outro_usuario['id']:\n",
    "                                score *= 2 \n",
    "                    recomendacoes[usuario['id']].append((nome_curso, score))"
   ]
  },
  {
   "cell_type": "code",
   "execution_count": 36,
   "metadata": {},
   "outputs": [],
   "source": [
    "recomendacoes[1].sort(key=lambda x: x[1], reverse=True)"
   ]
  },
  {
   "cell_type": "code",
   "execution_count": 37,
   "metadata": {},
   "outputs": [
    {
     "name": "stdout",
     "output_type": "stream",
     "text": [
      "Recomendações para o usuário 1:\n",
      "- Marketing Digital (score: 9.0)\n",
      "- Design GrÃ¡fico (score: 8.0)\n",
      "- Publicidade e Propaganda (score: 7.0)\n"
     ]
    }
   ],
   "source": [
    "print(\"Recomendações para o usuário 1:\")\n",
    "for curso, score in recomendacoes[1]:\n",
    "    print(f\"- {curso} (score: {score})\")"
   ]
  }
 ],
 "metadata": {
  "kernelspec": {
   "display_name": "Python 3",
   "language": "python",
   "name": "python3"
  },
  "language_info": {
   "codemirror_mode": {
    "name": "ipython",
    "version": 3
   },
   "file_extension": ".py",
   "mimetype": "text/x-python",
   "name": "python",
   "nbconvert_exporter": "python",
   "pygments_lexer": "ipython3",
   "version": "3.10.1"
  },
  "orig_nbformat": 4
 },
 "nbformat": 4,
 "nbformat_minor": 2
}
